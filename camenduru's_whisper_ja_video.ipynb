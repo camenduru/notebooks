{
  "cells": [
    {
      "cell_type": "markdown",
      "metadata": {
        "id": "view-in-github"
      },
      "source": [
        "[![Open In Colab](https://colab.research.google.com/assets/colab-badge.svg)](https://colab.research.google.com/github/camenduru/notebooks/blob/main/camenduru's_whisper_ja_video.ipynb)"
      ]
    },
    {
      "cell_type": "code",
      "execution_count": null,
      "metadata": {
        "vscode": {
          "languageId": "plaintext"
        }
      },
      "outputs": [],
      "source": [
        "!pip install transformers gradio yt_dlp pytube"
      ]
    },
    {
      "cell_type": "code",
      "execution_count": null,
      "metadata": {
        "vscode": {
          "languageId": "plaintext"
        }
      },
      "outputs": [],
      "source": [
        "# https://huggingface.co/spaces/vumichien/whisper-speaker-diarization/blob/main/app.py modifiyed\n",
        "\n",
        "from transformers import pipeline\n",
        "from pytube import YouTube\n",
        "\n",
        "pipe = pipeline(\n",
        "    task=\"automatic-speech-recognition\",\n",
        "    model=\"vumichien/whisper-medium-jp\",\n",
        "    chunk_length_s=30,\n",
        "    device=0,\n",
        ")\n",
        "\n",
        "pipe.model.config.forced_decoder_ids = pipe.tokenizer.get_decoder_prompt_ids(language=\"ja\", task=\"transcribe\")\n",
        "\n",
        "def _return_yt_html_embed(yt_url):\n",
        "    video_id = yt_url.split(\"?v=\")[-1]\n",
        "    HTML_str = (\n",
        "        f'<center> <iframe width=\"500\" height=\"320\" src=\"https://www.youtube.com/embed/{video_id}\"> </iframe>'\n",
        "        \" </center>\"\n",
        "    )\n",
        "    return HTML_str\n",
        "\n",
        "def yt_transcribe(yt_url):\n",
        "    yt = YouTube(yt_url)\n",
        "    html_embed_str = _return_yt_html_embed(yt_url)\n",
        "    stream = yt.streams.filter(only_audio=True)[0]\n",
        "    stream.download(filename=\"audio.mp3\")\n",
        "    text = pipe(\"audio.mp3\")[\"text\"]\n",
        "    return html_embed_str, text"
      ]
    },
    {
      "cell_type": "code",
      "execution_count": null,
      "metadata": {
        "vscode": {
          "languageId": "plaintext"
        }
      },
      "outputs": [],
      "source": [
        "from yt_dlp import YoutubeDL\n",
        "#with YoutubeDL({'overwrites':True, 'format':'bestvideo[ext=mp4]+bestaudio[ext=m4a]/mp4', 'outtmpl':'/content/video'}) as ydl:\n",
        "with YoutubeDL({'overwrites':True, 'format':'bestaudio[ext=m4a]', 'outtmpl':'/content/audio.mp4'}) as ydl:\n",
        "    ydl.download(\"https://www.youtube.com/watch?v=ulziqjIMDKQ\")"
      ]
    },
    {
      "cell_type": "code",
      "execution_count": null,
      "metadata": {
        "vscode": {
          "languageId": "plaintext"
        }
      },
      "outputs": [],
      "source": [
        "from transformers import pipeline\n",
        "import gradio as gr\n",
        "\n",
        "pipe = pipeline(model=\"vumichien/whisper-medium-jp\", device=0,)\n",
        "text = pipe(\"/content/audio.mp4\")[\"text\"]\n",
        "print(text)"
      ]
    }
  ],
  "metadata": {
    "accelerator": "GPU",
    "colab": {
      "provenance": []
    },
    "gpuClass": "standard",
    "kernelspec": {
      "display_name": "Python 3",
      "name": "python3"
    },
    "language_info": {
      "name": "python"
    }
  },
  "nbformat": 4,
  "nbformat_minor": 0
}
