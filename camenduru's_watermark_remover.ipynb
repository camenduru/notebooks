{
  "nbformat": 4,
  "nbformat_minor": 0,
  "metadata": {
    "colab": {
      "provenance": []
    },
    "kernelspec": {
      "name": "python3",
      "display_name": "Python 3"
    },
    "language_info": {
      "name": "python"
    },
    "gpuClass": "standard"
  },
  "cells": [
    {
      "cell_type": "markdown",
      "metadata": {
        "id": "view-in-github"
      },
      "source": [
        "[![Open In Colab](https://colab.research.google.com/assets/colab-badge.svg)](https://colab.research.google.com/github/camenduru/notebooks/blob/main/camenduru's_watermark_remover.ipynb)"
      ]
    },
    {
      "cell_type": "code",
      "execution_count": null,
      "metadata": {
        "id": "VSNbyJrXkQXb"
      },
      "outputs": [],
      "source": [
        "!pip install -q torch==1.13.1+cu116 torchvision==0.14.1+cu116 torchaudio==0.13.1 torchtext==0.14.1 torchdata==0.5.1 --extra-index-url https://download.pytorch.org/whl/cu116 -U\n",
        "!pip install -q gradio==3.24.1 pytorch-lightning==1.8.3.post0 hydra-core==1.1.0 webdataset kornia==0.5.0\n",
        "!git clone https://github.com/camenduru/lama\n",
        "%cd /content/lama\n",
        "\n",
        "!mkdir /content/lama/big-lama\n",
        "!mkdir /content/lama/big-lama/models\n",
        "!mkdir /content/lama/masks\n",
        "!wget https://huggingface.co/camenduru/big-lama/resolve/main/big-lama/models/best.ckpt -O /content/lama/big-lama/models/best.ckpt\n",
        "!wget https://huggingface.co/camenduru/big-lama/raw/main/big-lama/config.yaml -O /content/lama/big-lama/config.yaml\n",
        "!wget https://huggingface.co/camenduru/big-lama/resolve/main/big-lama/mask.png -O /content/lama/masks/mask.png\n",
        "\n",
        "!cp /content/lama/bin/predict.py /content/lama/predict.py\n",
        "\n",
        "!mkdir /content/lama/in\n",
        "!mkdir /content/lama/out\n",
        "!wget https://user-images.githubusercontent.com/54370274/230710342-a4411c86-298d-4622-b5f1-4f823c8e9a06.png /content/lama/in/test.png\n",
        "!python predict.py model.path=/content/lama/big-lama indir=/content/lama/in outdir=/content/lama/out device=cpu"
      ]
    }
  ]
}