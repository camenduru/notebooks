{
  "cells": [
    {
      "cell_type": "markdown",
      "metadata": {
        "id": "view-in-github"
      },
      "source": [
        "[![Open In Colab](https://colab.research.google.com/assets/colab-badge.svg)](https://colab.research.google.com/github/camenduru/notebooks/blob/main/camenduru's_html_to_datasets.ipynb)"
      ]
    },
    {
      "cell_type": "code",
      "execution_count": null,
      "metadata": {
        "id": "ExL6QTs80tn4"
      },
      "outputs": [],
      "source": [
        "!pip install -q torch==1.13.1+cu116 torchvision==0.14.1+cu116 torchaudio==0.13.1 torchtext==0.14.1 torchdata==0.5.1 --extra-index-url https://download.pytorch.org/whl/cu116 -U\n",
        "!pip install datasets bs4"
      ]
    },
    {
      "cell_type": "code",
      "execution_count": null,
      "metadata": {
        "id": "dYNuukd4AOP7"
      },
      "outputs": [],
      "source": [
        "from huggingface_hub import notebook_login\n",
        "!git config --global credential.helper store\n",
        "notebook_login()"
      ]
    },
    {
      "cell_type": "code",
      "execution_count": null,
      "metadata": {
        "id": "juJqLu-Z7FAA"
      },
      "outputs": [],
      "source": [
        "!mkdir plushies"
      ]
    },
    {
      "cell_type": "code",
      "execution_count": null,
      "metadata": {
        "id": "uyAtj6x_3nz7"
      },
      "outputs": [],
      "source": [
        "import urllib.request\n",
        "from bs4 import BeautifulSoup\n",
        "\n",
        "with open('/content/plushies.txt') as html:\n",
        "    content = html.read()\n",
        "\n",
        "soup = BeautifulSoup(content)\n",
        "for imgtag in soup.find_all('img'):\n",
        "  url=imgtag['src']\n",
        "  name = url.split('/')[-1]\n",
        "  headers={'user-agent': 'Mozilla/5.0'}\n",
        "  r=requests.get(url, headers=headers)\n",
        "  with open(f\"/content/plushies/{name}\", 'wb') as f:\n",
        "      f.write(r.content)"
      ]
    },
    {
      "cell_type": "code",
      "execution_count": null,
      "metadata": {
        "id": "EhxZkJzt-i3W"
      },
      "outputs": [],
      "source": [
        "from datasets import load_dataset, Dataset, Image\n",
        "\n",
        "with open('/content/plushies.txt') as html:\n",
        "  content = html.read()\n",
        "\n",
        "texts = []\n",
        "images = []\n",
        "soup = BeautifulSoup(content)\n",
        "for imgtag in soup.find_all('img'):\n",
        "  texts.append(imgtag['alt'])\n",
        "  images.append(f\"/content/plushies/{imgtag['src'].split('/')[-1]}\")\n",
        "  \n",
        "ds = Dataset.from_dict({\"image\": images, \"text\": texts})\n",
        "ds = ds.cast_column(\"image\", Image())"
      ]
    },
    {
      "cell_type": "code",
      "execution_count": null,
      "metadata": {
        "id": "Q62zPmku_zO7"
      },
      "outputs": [],
      "source": [
        "ds.push_to_hub(\"camenduru/plushies\")"
      ]
    },
    {
      "cell_type": "code",
      "execution_count": null,
      "metadata": {
        "id": "A_O_uz3P_1V3"
      },
      "outputs": [],
      "source": [
        "ds = load_dataset(\"camenduru/plushies\")"
      ]
    },
    {
      "cell_type": "code",
      "execution_count": null,
      "metadata": {
        "id": "RwEOGAnh0lGz"
      },
      "outputs": [],
      "source": [
        "ds.shape"
      ]
    }
  ],
  "metadata": {
    "colab": {
      "provenance": []
    },
    "kernelspec": {
      "display_name": "Python 3",
      "name": "python3"
    },
    "language_info": {
      "name": "python"
    }
  },
  "nbformat": 4,
  "nbformat_minor": 0
}
