{
  "cells": [
    {
      "cell_type": "markdown",
      "metadata": {
        "id": "view-in-github"
      },
      "source": [
        "[![Open In Colab](https://colab.research.google.com/assets/colab-badge.svg)](https://colab.research.google.com/github/camenduru/notebooks/blob/main/camenduru's_tensor_rt.ipynb)"
      ]
    },
    {
      "cell_type": "code",
      "execution_count": null,
      "metadata": {
        "id": "n_Kgy0tjscUC"
      },
      "outputs": [],
      "source": [
        "!sudo apt-get update\n",
        "!sudo apt-get install tensorrt\n",
        "!sudo apt-get install python3-libnvinfer-dev\n",
        "!sudo apt-get install uff-converter-tf graphsurgeon-tf onnx-graphsurgeon\n",
        "\n",
        "!pip install pycuda nvidia-tensorrt==8.4.1.5"
      ]
    },
    {
      "cell_type": "code",
      "execution_count": null,
      "metadata": {
        "id": "Ila5z9MlnSBP"
      },
      "outputs": [],
      "source": [
        "!nvcc --version"
      ]
    },
    {
      "cell_type": "code",
      "execution_count": null,
      "metadata": {
        "id": "fo0Ur35ynh2i"
      },
      "outputs": [],
      "source": [
        "!cat /etc/issue\n",
        "import tensorflow as tf\n",
        "print(tf.__version__)"
      ]
    },
    {
      "cell_type": "code",
      "execution_count": null,
      "metadata": {
        "id": "f88d_bomtWSV"
      },
      "outputs": [],
      "source": [
        "!dpkg -l | grep libcudnn"
      ]
    },
    {
      "cell_type": "code",
      "execution_count": null,
      "metadata": {
        "id": "ALLJj6pWshmB"
      },
      "outputs": [],
      "source": [
        "!dpkg -l | grep TensorRT"
      ]
    },
    {
      "cell_type": "code",
      "execution_count": null,
      "metadata": {
        "id": "0d-3kTlqtn69"
      },
      "outputs": [],
      "source": [
        "!pip show pycuda"
      ]
    },
    {
      "cell_type": "code",
      "execution_count": null,
      "metadata": {
        "id": "kh8bh8BUyHZs"
      },
      "outputs": [],
      "source": [
        "!pip show nvidia-tensorrt"
      ]
    },
    {
      "cell_type": "code",
      "execution_count": null,
      "metadata": {
        "id": "4QUYkcqvuI-1"
      },
      "outputs": [],
      "source": [
        "import pycuda.autoinit\n",
        "import pycuda.driver as drv\n",
        "import numpy\n",
        "\n",
        "from pycuda.compiler import SourceModule\n",
        "mod = SourceModule(\"\"\"\n",
        "__global__ void multiply_them(float *dest, float *a, float *b)\n",
        "{\n",
        "  const int i = threadIdx.x;\n",
        "  dest[i] = a[i] * b[i];\n",
        "}\n",
        "\"\"\")\n",
        "\n",
        "multiply_them = mod.get_function(\"multiply_them\")\n",
        "\n",
        "a = numpy.random.randn(400).astype(numpy.float32)\n",
        "b = numpy.random.randn(400).astype(numpy.float32)\n",
        "\n",
        "dest = numpy.zeros_like(a)\n",
        "multiply_them(\n",
        "        drv.Out(dest), drv.In(a), drv.In(b),\n",
        "        block=(400,1,1), grid=(1,1))\n",
        "\n",
        "print(dest-a*b)"
      ]
    },
    {
      "cell_type": "code",
      "execution_count": null,
      "metadata": {
        "id": "cXQrJfbuvexJ"
      },
      "outputs": [],
      "source": [
        "!git clone https://github.com/stochasticai/x-stable-diffusion"
      ]
    },
    {
      "cell_type": "code",
      "execution_count": null,
      "metadata": {
        "id": "clVZdSPwvyA7"
      },
      "outputs": [],
      "source": [
        "!pip install transformers diffusers scipy uvicorn pydantic fastapi pycuda huggingface_hub"
      ]
    },
    {
      "cell_type": "code",
      "execution_count": null,
      "metadata": {
        "id": "Q6K4XTBvxLCu"
      },
      "outputs": [],
      "source": [
        "!git lfs install "
      ]
    },
    {
      "cell_type": "code",
      "execution_count": null,
      "metadata": {
        "id": "Z-h_7WmtxBde"
      },
      "outputs": [],
      "source": [
        "!git clone -b onnx https://huggingface.co/runwayml/stable-diffusion-v1-5"
      ]
    },
    {
      "cell_type": "code",
      "execution_count": null,
      "metadata": {
        "id": "cP88SJhEx6wC"
      },
      "outputs": [],
      "source": [
        "!python /content/x-stable-diffusion/TensorRT/convert_unet_to_tensorrt.py --onnx_unet_path /content/stable-diffusion-v1-4/unet/model.onnx --save_path /content/unet.engine"
      ]
    },
    {
      "cell_type": "code",
      "source": [
        "!wget https://huggingface.co/kamalkraj/stable-diffusion-v1-4-onnx/resolve/main/models.tar.gz"
      ],
      "metadata": {
        "id": "Cn7WnI0782lI"
      },
      "execution_count": null,
      "outputs": []
    },
    {
      "cell_type": "code",
      "source": [
        "!tar -xf models.tar.gz"
      ],
      "metadata": {
        "id": "Wzyk03Oc9Aut"
      },
      "execution_count": null,
      "outputs": []
    },
    {
      "cell_type": "code",
      "source": [
        "!python /content/x-stable-diffusion/TensorRT/convert_unet_to_tensorrt.py"
      ],
      "metadata": {
        "id": "HyFuIaxw8zlC"
      },
      "execution_count": null,
      "outputs": []
    },
    {
      "cell_type": "code",
      "source": [
        "!python /content/x-stable-diffusion/TensorRT/demo.py"
      ],
      "metadata": {
        "id": "Kj_ROHBS8oY5"
      },
      "execution_count": null,
      "outputs": []
    },
    {
      "cell_type": "code",
      "source": [
        "!git clone https://github.com/huggingface/diffusers"
      ],
      "metadata": {
        "id": "_46dgIhkFAtN"
      },
      "execution_count": null,
      "outputs": []
    },
    {
      "cell_type": "code",
      "source": [
        "!wget https://huggingface.co/Linaqruf/anything-v3.0/resolve/main/Anything-V3.0-pruned-fp16.ckpt"
      ],
      "metadata": {
        "id": "RTUU55euFLe2"
      },
      "execution_count": null,
      "outputs": []
    },
    {
      "cell_type": "code",
      "source": [
        "!python /content/diffusers/scripts/convert_stable_diffusion_checkpoint_to_onnx.py --model_path Anything-V3.0-pruned-fp16.ckpt --output_path /content/onnx --fp16"
      ],
      "metadata": {
        "id": "3TOmTwYPFQy-"
      },
      "execution_count": null,
      "outputs": []
    },
    {
      "cell_type": "code",
      "source": [
        "!pip install onnx"
      ],
      "metadata": {
        "id": "BTOZpTXWFoPT"
      },
      "execution_count": null,
      "outputs": []
    },
    {
      "cell_type": "code",
      "source": [
        "!git clone -b onnx https://huggingface.co/CompVis/stable-diffusion-v1-4"
      ],
      "metadata": {
        "id": "ZEYf_Ym5GWxF"
      },
      "execution_count": null,
      "outputs": []
    },
    {
      "cell_type": "code",
      "source": [
        "!pip install huggingface-hub"
      ],
      "metadata": {
        "id": "C7QL5fx0SXdF"
      },
      "execution_count": null,
      "outputs": []
    },
    {
      "cell_type": "code",
      "source": [
        "from huggingface_hub import create_repo, create_branch, upload_folder, upload_file"
      ],
      "metadata": {
        "id": "CIT7Ij8ASWMk"
      },
      "execution_count": 29,
      "outputs": []
    },
    {
      "cell_type": "code",
      "source": [
        "create_repo(\"embed/sd14e\", token=\"token\") \n",
        "upload_file(path_or_fileobj=\"/content/unet.engine\", path_in_repo=\"unet.engine\", repo_id=\"embed/sd14e\", commit_message=f\"unet.engine\", token=\"token\")"
      ],
      "metadata": {
        "id": "NsXeEyz9SAxP"
      },
      "execution_count": null,
      "outputs": []
    },
    {
      "cell_type": "code",
      "source": [
        "!mv /content/stable-diffusion-v1-4 /content/stable-diffusion-v1-4-old"
      ],
      "metadata": {
        "id": "JofpxS9OUWxE"
      },
      "execution_count": 34,
      "outputs": []
    }
  ],
  "metadata": {
    "accelerator": "GPU",
    "colab": {
      "provenance": []
    },
    "gpuClass": "standard",
    "kernelspec": {
      "display_name": "Python 3",
      "name": "python3"
    },
    "language_info": {
      "name": "python"
    }
  },
  "nbformat": 4,
  "nbformat_minor": 0
}
