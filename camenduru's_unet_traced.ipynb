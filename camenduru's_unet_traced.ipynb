{
  "cells": [
    {
      "cell_type": "markdown",
      "metadata": {
        "id": "view-in-github"
      },
      "source": [
        "[![Open In Colab](https://colab.research.google.com/assets/colab-badge.svg)](https://colab.research.google.com/github/camenduru/notebooks/blob/main/camenduru's_unet_traced.ipynb)"
      ]
    },
    {
      "cell_type": "code",
      "execution_count": null,
      "metadata": {
        "id": "dxxnQJw15FCx"
      },
      "outputs": [],
      "source": [
        "!pip install diffusers transformers accelerate\n",
        "!pip install -q https://github.com/camenduru/stable-diffusion-webui-colab/releases/download/0.0.15/xformers-0.0.15.dev0+189828c.d20221207-cp38-cp38-linux_x86_64.whl"
      ]
    },
    {
      "cell_type": "code",
      "execution_count": null,
      "metadata": {
        "id": "KwssL-ep4wFr"
      },
      "outputs": [],
      "source": [
        "import time\n",
        "import torch\n",
        "from diffusers import StableDiffusionPipeline\n",
        "import functools\n",
        "\n",
        "# torch disable grad\n",
        "torch.set_grad_enabled(False)\n",
        "\n",
        "# load inputs\n",
        "def generate_inputs():\n",
        "    sample = torch.randn(2, 4, 64, 64).half().cuda()\n",
        "    timestep = torch.rand(1).half().cuda() * 999\n",
        "    encoder_hidden_states = torch.randn(2, 77, 768).half().cuda()\n",
        "    return sample, timestep, encoder_hidden_states\n",
        "\n",
        "\n",
        "pipe = StableDiffusionPipeline.from_pretrained(\"runwayml/stable-diffusion-v1-5\", torch_dtype=torch.float16).to(\"cuda\")\n",
        "unet = pipe.unet\n",
        "unet.eval()\n",
        "unet.to(memory_format=torch.channels_last)  # use channels_last memory format\n",
        "unet.forward = functools.partial(unet.forward, return_dict=False)  # set return_dict=False as default\n",
        "\n",
        "# warmup\n",
        "for _ in range(3):\n",
        "    with torch.inference_mode():\n",
        "        inputs = generate_inputs()\n",
        "        orig_output = unet(*inputs)\n",
        "\n",
        "# trace\n",
        "print(\"tracing..\")\n",
        "unet_traced = torch.jit.trace(unet, inputs)\n",
        "unet_traced.eval()\n",
        "print(\"done tracing\")\n",
        "\n",
        "# save the model\n",
        "unet_traced.save(\"unet_traced.pt\")"
      ]
    },
    {
      "cell_type": "code",
      "execution_count": null,
      "metadata": {
        "id": "ZWDyn6Mo4tom"
      },
      "outputs": [],
      "source": [
        "from diffusers import StableDiffusionPipeline\n",
        "import torch\n",
        "from dataclasses import dataclass\n",
        "\n",
        "@dataclass\n",
        "class UNet2DConditionOutput:\n",
        "    sample: torch.FloatTensor\n",
        "\n",
        "pipe = StableDiffusionPipeline.from_pretrained(\"runwayml/stable-diffusion-v1-5\", torch_dtype=torch.float16, safety_checker=None, custom_pipeline=\"interpolate_stable_diffusion\").to(\"cuda\")\n",
        "unet_traced = torch.jit.load(\"unet_traced.pt\")\n",
        "\n",
        "class TracedUNet(torch.nn.Module):\n",
        "    def __init__(self):\n",
        "        super().__init__()\n",
        "        self.in_channels = pipe.unet.in_channels\n",
        "        self.device = pipe.unet.device\n",
        "        self.dtype = torch.float16\n",
        "\n",
        "    def forward(self, latent_model_input, t, encoder_hidden_states):\n",
        "        sample = unet_traced(latent_model_input, t, encoder_hidden_states)[0]\n",
        "        return UNet2DConditionOutput(sample=sample)\n",
        "\n",
        "pipe.unet = TracedUNet()\n",
        "pipe.to(\"cuda\")"
      ]
    },
    {
      "cell_type": "code",
      "execution_count": null,
      "metadata": {
        "id": "7DnlDKJO647f"
      },
      "outputs": [],
      "source": [
        "with torch.inference_mode():\n",
        "    generator = torch.Generator(\"cuda\").manual_seed(1)\n",
        "    image = pipe(\"duck\", generator=generator).images[0]\n",
        "    display(image)"
      ]
    },
    {
      "cell_type": "code",
      "execution_count": null,
      "metadata": {
        "id": "k-Eml3ODR2BY"
      },
      "outputs": [],
      "source": [
        "pipe2 = StableDiffusionPipeline.from_pretrained(\"runwayml/stable-diffusion-v1-5\", torch_dtype=torch.float16, safety_checker=None,).to(\"cuda\")\n",
        "pipe2.enable_xformers_memory_efficient_attention()"
      ]
    },
    {
      "cell_type": "code",
      "execution_count": null,
      "metadata": {
        "id": "ricKjbd9R8C1"
      },
      "outputs": [],
      "source": [
        "with torch.autocast(\"cuda\"):\n",
        "    generator = torch.Generator(\"cuda\").manual_seed(1)\n",
        "    image = pipe2(\"duck\", generator=generator).images[0]\n",
        "    display(image)"
      ]
    }
  ],
  "metadata": {
    "accelerator": "GPU",
    "colab": {
      "provenance": []
    },
    "gpuClass": "standard",
    "kernelspec": {
      "display_name": "Python 3",
      "name": "python3"
    },
    "language_info": {
      "name": "python"
    }
  },
  "nbformat": 4,
  "nbformat_minor": 0
}
