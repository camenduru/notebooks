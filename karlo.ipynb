{
  "nbformat": 4,
  "nbformat_minor": 0,
  "metadata": {
    "colab": {
      "provenance": []
    },
    "kernelspec": {
      "name": "python3",
      "display_name": "Python 3"
    },
    "language_info": {
      "name": "python"
    },
    "accelerator": "GPU",
    "gpuClass": "standard"
  },
  "cells": [
    {
      "cell_type": "code",
      "execution_count": null,
      "metadata": {
        "id": "2_4SeDFVbOF1"
      },
      "outputs": [],
      "source": [
        "!pip install diffusers transformers accelerate\n",
        "import torch\n",
        "from diffusers import UnCLIPPipeline\n",
        "pipe = UnCLIPPipeline.from_pretrained(\"kakaobrain/karlo-v1-alpha\", torch_dtype=torch.float16).to(\"cuda\")"
      ]
    },
    {
      "cell_type": "code",
      "source": [
        "images = pipe(\"mermaid\", num_images_per_prompt=1).images\n",
        "for image in images:\n",
        "  display(image)"
      ],
      "metadata": {
        "id": "7jm2YHTjfk6i"
      },
      "execution_count": null,
      "outputs": []
    }
  ]
}