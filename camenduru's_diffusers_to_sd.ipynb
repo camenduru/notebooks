{
  "cells": [
    {
      "cell_type": "markdown",
      "metadata": {
        "id": "view-in-github"
      },
      "source": [
        "[![Open In Colab](https://colab.research.google.com/assets/colab-badge.svg)](https://colab.research.google.com/github/camenduru/notebooks/blob/main/camenduru's_diffusers_to_sd.ipynb)"
      ]
    },
    {
      "cell_type": "code",
      "execution_count": null,
      "metadata": {
        "id": "W_hvBD84lggc"
      },
      "outputs": [],
      "source": [
        "!pip install -q torch==1.13.1+cu116 torchvision==0.14.1+cu116 torchaudio==0.13.1 torchtext==0.14.1 torchdata==0.5.1 --extra-index-url https://download.pytorch.org/whl/cu116 -U\n",
        "!pip -qq install huggingface-hub\n",
        "!wget -q https://gist.github.com/jachiam/8a5c0b607e38fcc585168b90c686eb05/raw/2af0a9c0237ed98b863a75e1db21d7ed5541094f/convert_diffusers_to_sd.py\n",
        "!git lfs install\n",
        "from huggingface_hub import notebook_login\n",
        "!git config --global credential.helper store\n",
        "notebook_login()"
      ]
    },
    {
      "cell_type": "code",
      "execution_count": null,
      "metadata": {
        "id": "V8DWrvEhlJNT"
      },
      "outputs": [],
      "source": [
        "old_model_name = \"adambrody\" #@param {type:\"string\"}\n",
        "new_model_name = \"camenduru\" #@param {type:\"string\"}\n",
        "!git clone https://huggingface.co/camenduru/$old_model_name\n",
        "\n",
        "old_model_name_ckpt = f\"/content/{old_model_name}_ckpt\"\n",
        "!mkdir $old_model_name_ckpt\n",
        "\n",
        "ckpt_file = f\"{old_model_name_ckpt}/{old_model_name}.ckpt\"\n",
        "!python convert_diffusers_to_sd.py --model_path /content/$old_model_name --checkpoint_path $ckpt_file \n",
        "\n",
        "from slugify import slugify\n",
        "from huggingface_hub import HfApi, HfFolder, CommitOperationAdd\n",
        "from huggingface_hub import create_repo\n",
        "from IPython.display import display_markdown\n",
        "api = HfApi()\n",
        "your_username = api.whoami()[\"name\"]\n",
        "repo_id = f\"{your_username}/{slugify(new_model_name)}\"\n",
        "with open(HfFolder.path_token, 'r') as fin: hf_token = fin.read();\n",
        "\n",
        "create_repo(repo_id,private=True, token=hf_token)\n",
        "api.create_commit(repo_id=repo_id,operations=[],commit_message=f\"{old_model_name} to {new_model_name}\",token=hf_token)\n",
        "api.upload_folder(folder_path=old_model_name_ckpt,path_in_repo=\"\",repo_id=repo_id,token=hf_token)\n",
        "\n",
        "display_markdown(f'https://huggingface.co/{repo_id}', raw=True)"
      ]
    }
  ],
  "metadata": {
    "colab": {
      "provenance": []
    },
    "kernelspec": {
      "display_name": "Python 3",
      "name": "python3"
    },
    "language_info": {
      "name": "python"
    }
  },
  "nbformat": 4,
  "nbformat_minor": 0
}
