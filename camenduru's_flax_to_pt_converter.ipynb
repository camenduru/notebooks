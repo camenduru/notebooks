{
  "nbformat": 4,
  "nbformat_minor": 0,
  "metadata": {
    "colab": {
      "provenance": []
    },
    "kernelspec": {
      "name": "python3",
      "display_name": "Python 3"
    },
    "language_info": {
      "name": "python"
    },
    "gpuClass": "standard"
  },
  "cells": [
    {
      "cell_type": "markdown",
      "metadata": {
        "id": "view-in-github"
      },
      "source": [
        "[![Open In Colab](https://colab.research.google.com/assets/colab-badge.svg)](https://colab.research.google.com/github/camenduru/notebooks/blob/main/camenduru's_flax_to_pt_converter.ipynb)"
      ]
    },
    {
      "cell_type": "code",
      "execution_count": null,
      "metadata": {
        "id": "fHqFb4JZwFIt"
      },
      "outputs": [],
      "source": [
        "!pip -q install transformers accelerate flax jax\n",
        "!pip -q install git+https://github.com/camenduru/diffusers@from_flax_v2 -U"
      ]
    },
    {
      "cell_type": "code",
      "source": [
        "!git lfs install"
      ],
      "metadata": {
        "id": "yd9YqtOGyI4j"
      },
      "execution_count": null,
      "outputs": []
    },
    {
      "cell_type": "code",
      "source": [
        "!git clone -b flax https://huggingface.co/runwayml/stable-diffusion-v1-5 /content/flax"
      ],
      "metadata": {
        "id": "gNlBtEEtxz56"
      },
      "execution_count": null,
      "outputs": []
    },
    {
      "cell_type": "code",
      "source": [
        "import torch\n",
        "from diffusers import StableDiffusionPipeline\n",
        "pipe = StableDiffusionPipeline.from_pretrained(\"camenduru/plushies\", revision=\"main\", safety_checker=None, low_cpu_mem_usage=False, from_flax=True).to(\"cpu\")"
      ],
      "metadata": {
        "id": "gxpkq19dwS3-"
      },
      "execution_count": null,
      "outputs": []
    },
    {
      "cell_type": "code",
      "source": [
        "pipe.save_pretrained(\"/content/plushies-pt\")"
      ],
      "metadata": {
        "id": "_uv4nETyzP2f"
      },
      "execution_count": null,
      "outputs": []
    },
    {
      "cell_type": "code",
      "source": [
        "image = pipe(\"cat\", num_inference_steps=20, height=512, width=512).images[0]\n",
        "display(image)"
      ],
      "metadata": {
        "id": "53xx1AZvzTvh"
      },
      "execution_count": null,
      "outputs": []
    },
    {
      "cell_type": "code",
      "source": [
        "!rm -rf /root/.cache/huggingface"
      ],
      "metadata": {
        "id": "2cJLULTh0xJS"
      },
      "execution_count": null,
      "outputs": []
    },
    {
      "cell_type": "code",
      "source": [
        "import jax\n",
        "from diffusers import FlaxStableDiffusionPipeline\n",
        "pipe2, params = FlaxStableDiffusionPipeline.from_pretrained(\"camenduru/plushies\", revision=\"main\", dtype=jax.numpy.bfloat16, safety_checker=None)"
      ],
      "metadata": {
        "id": "NSy5G2HL02IR"
      },
      "execution_count": null,
      "outputs": []
    },
    {
      "cell_type": "code",
      "source": [
        "from huggingface_hub import create_repo, upload_folder\n",
        "create_repo(\"camenduru/plushies-pt\", private=True, token=\"\")\n",
        "upload_folder(folder_path=\"plushies-pt\", path_in_repo=\"\", repo_id=\"camenduru/plushies-pt\", commit_message=f\"plushies flax to pt\", token=\"\")"
      ],
      "metadata": {
        "id": "ROzHxQqo4ZRN"
      },
      "execution_count": null,
      "outputs": []
    }
  ]
}
