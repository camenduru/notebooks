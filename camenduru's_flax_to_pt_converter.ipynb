{
  "cells": [
    {
      "cell_type": "markdown",
      "metadata": {
        "id": "view-in-github"
      },
      "source": [
        "[![Open In Colab](https://colab.research.google.com/assets/colab-badge.svg)](https://colab.research.google.com/github/camenduru/notebooks/blob/main/camenduru's_flax_to_pt_converter.ipynb)"
      ]
    },
    {
      "cell_type": "code",
      "execution_count": null,
      "metadata": {
        "id": "fHqFb4JZwFIt"
      },
      "outputs": [],
      "source": [
        "!pip install -q torch==1.13.1+cu116 torchvision==0.14.1+cu116 torchaudio==0.13.1 torchtext==0.14.1 torchdata==0.5.1 --extra-index-url https://download.pytorch.org/whl/cu116 -U\n",
        "!pip -q install transformers accelerate flax jax\n",
        "!pip -q install git+https://github.com/camenduru/diffusers@from_flax_v2 -U"
      ]
    },
    {
      "cell_type": "code",
      "execution_count": null,
      "metadata": {
        "id": "yd9YqtOGyI4j"
      },
      "outputs": [],
      "source": [
        "!git lfs install"
      ]
    },
    {
      "cell_type": "code",
      "execution_count": null,
      "metadata": {
        "id": "gNlBtEEtxz56"
      },
      "outputs": [],
      "source": [
        "!git clone -b flax https://huggingface.co/runwayml/stable-diffusion-v1-5 /content/flax"
      ]
    },
    {
      "cell_type": "code",
      "execution_count": null,
      "metadata": {
        "id": "gxpkq19dwS3-"
      },
      "outputs": [],
      "source": [
        "import torch\n",
        "from diffusers import StableDiffusionPipeline\n",
        "pipe = StableDiffusionPipeline.from_pretrained(\"camenduru/plushies\", revision=\"main\", safety_checker=None, low_cpu_mem_usage=False, from_flax=True).to(\"cpu\")"
      ]
    },
    {
      "cell_type": "code",
      "execution_count": null,
      "metadata": {
        "id": "_uv4nETyzP2f"
      },
      "outputs": [],
      "source": [
        "pipe.save_pretrained(\"/content/plushies-pt\")"
      ]
    },
    {
      "cell_type": "code",
      "execution_count": null,
      "metadata": {
        "id": "53xx1AZvzTvh"
      },
      "outputs": [],
      "source": [
        "image = pipe(\"cat\", num_inference_steps=20, height=512, width=512).images[0]\n",
        "display(image)"
      ]
    },
    {
      "cell_type": "code",
      "execution_count": null,
      "metadata": {
        "id": "2cJLULTh0xJS"
      },
      "outputs": [],
      "source": [
        "!rm -rf /root/.cache/huggingface"
      ]
    },
    {
      "cell_type": "code",
      "execution_count": null,
      "metadata": {
        "id": "NSy5G2HL02IR"
      },
      "outputs": [],
      "source": [
        "import jax\n",
        "from diffusers import FlaxStableDiffusionPipeline\n",
        "pipe2, params = FlaxStableDiffusionPipeline.from_pretrained(\"camenduru/plushies\", revision=\"main\", dtype=jax.numpy.bfloat16, safety_checker=None)"
      ]
    },
    {
      "cell_type": "code",
      "execution_count": null,
      "metadata": {
        "id": "ROzHxQqo4ZRN"
      },
      "outputs": [],
      "source": [
        "from huggingface_hub import create_repo, upload_folder\n",
        "create_repo(\"camenduru/plushies-pt\", private=True, token=\"\")\n",
        "upload_folder(folder_path=\"plushies-pt\", path_in_repo=\"\", repo_id=\"camenduru/plushies-pt\", commit_message=f\"plushies flax to pt\", token=\"\")"
      ]
    },
    {
      "cell_type": "code",
      "execution_count": null,
      "metadata": {},
      "outputs": [],
      "source": [
        "!pip -q install flax"
      ]
    },
    {
      "cell_type": "code",
      "execution_count": null,
      "metadata": {},
      "outputs": [],
      "source": [
        "!wget https://huggingface.co/camenduru/plushies/resolve/main/vae/diffusion_flax_model.msgpack -P vae\n",
        "!wget https://huggingface.co/camenduru/plushies/resolve/main/unet/diffusion_flax_model.msgpack -P unet\n",
        "!wget https://huggingface.co/camenduru/plushies/resolve/main/text_encoder/flax_model.msgpack -P clip"
      ]
    },
    {
      "cell_type": "code",
      "execution_count": null,
      "metadata": {},
      "outputs": [],
      "source": [
        "!wget https://huggingface.co/runwayml/stable-diffusion-v1-5/resolve/flax/vae/diffusion_flax_model.msgpack -P vae\n",
        "!wget https://huggingface.co/runwayml/stable-diffusion-v1-5/resolve/flax/unet/diffusion_flax_model.msgpack -P unet\n",
        "!wget https://huggingface.co/runwayml/stable-diffusion-v1-5/resolve/flax/text_encoder/flax_model.msgpack -P clip"
      ]
    },
    {
      "cell_type": "code",
      "execution_count": null,
      "metadata": {},
      "outputs": [],
      "source": [
        "!wget https://huggingface.co/runwayml/stable-diffusion-v1-5/resolve/main/vae/diffusion_pytorch_model.bin -P vae\n",
        "!wget https://huggingface.co/runwayml/stable-diffusion-v1-5/resolve/main/unet/diffusion_pytorch_model.bin -P unet\n",
        "!wget https://huggingface.co/runwayml/stable-diffusion-v1-5/resolve/main/text_encoder/pytorch_model.bin -P clip"
      ]
    },
    {
      "cell_type": "code",
      "execution_count": null,
      "metadata": {},
      "outputs": [],
      "source": [
        "import torch\n",
        "\n",
        "pytorch_vae_nested_state_dict = torch.load(\"/content/vae/diffusion_pytorch_model.bin\")\n",
        "pytorch_unet_nested_state_dict = torch.load(\"/content/unet/diffusion_pytorch_model.bin\")\n",
        "pytorch_clip_nested_state_dict = torch.load(\"/content/clip/pytorch_model.bin\")\n",
        "\n",
        "def print_state_dict_keys(state_dict, indent=0, file=None):\n",
        "    for key, value in sorted(state_dict.items()):\n",
        "        file.write(\" \" * indent + key + \"\\n\")\n",
        "        if isinstance(value, dict):\n",
        "            print_state_dict_keys(value, indent + 2, file)\n",
        "\n",
        "# with open(\"/content/pytorch_vae_nested_state_dict_keys.txt\", \"w\") as f:\n",
        "#     print_state_dict_keys(pytorch_vae_nested_state_dict, file=f)\n",
        "\n",
        "# with open(\"/content/pytorch_unet_nested_state_dict_keys.txt\", \"w\") as f:\n",
        "#     print_state_dict_keys(pytorch_unet_nested_state_dict, file=f)\n",
        "\n",
        "# with open(\"/content/pytorch_clip_nested_state_dict_keys.txt\", \"w\") as f:\n",
        "#     print_state_dict_keys(pytorch_clip_nested_state_dict, file=f)\n",
        "\n",
        "import pprint\n",
        "with open(\"vae-original.txt\", \"w\") as f:\n",
        "    pprint.pprint(pytorch_vae_nested_state_dict, f)\n",
        "with open(\"unet-original.txt\", \"w\") as f:\n",
        "    pprint.pprint(pytorch_unet_nested_state_dict, f)\n",
        "with open(\"clip-original.txt\", \"w\") as f:\n",
        "    pprint.pprint(pytorch_clip_nested_state_dict, f)"
      ]
    },
    {
      "cell_type": "code",
      "execution_count": null,
      "metadata": {},
      "outputs": [],
      "source": [
        "import numpy as np\n",
        "import flax\n",
        "import jax.numpy as jnp\n",
        "import torch\n",
        "\n",
        "# with open(\"/content/vae/diffusion_flax_model.msgpack\", \"rb\") as state_vae_f:\n",
        "#     try:\n",
        "#         flax_vae_nested_state_dict = flax.serialization.from_bytes(None, state_vae_f.read())\n",
        "#     except e:\n",
        "#         raise print(e)\n",
        "\n",
        "with open(\"/content/unet/diffusion_flax_model.msgpack\", \"rb\") as state_unet_f:\n",
        "    try:\n",
        "        flax_unet_nested_state_dict = flax.serialization.from_bytes(None, state_unet_f.read())\n",
        "    except e:\n",
        "        raise print(e)\n",
        "\n",
        "# with open(\"/content/clip/flax_model.msgpack\", \"rb\") as state_clip_f:\n",
        "#     try:\n",
        "#         flax_clip_nested_state_dict = flax.serialization.from_bytes(None, state_clip_f.read())\n",
        "#     except e:\n",
        "#         raise print(e)\n",
        "\n",
        "def print_state_dict_keys(state_dict, indent=0, file=None):\n",
        "    for key, value in sorted(state_dict.items()):\n",
        "        file.write(\" \" * indent + key + \"\\n\")\n",
        "        if isinstance(value, dict):\n",
        "            print_state_dict_keys(value, indent + 2, file)\n",
        "\n",
        "# with open(\"vae/flax_vae_nested_state_dict_keys.txt\", \"w\") as f:\n",
        "#     print_state_dict_keys(flax_vae_nested_state_dict, file=f)\n",
        "\n",
        "# with open(\"unet/flax_unet_nested_state_dict_keys.txt\", \"w\") as f:\n",
        "#     print_state_dict_keys(flax_unet_nested_state_dict, file=f)\n",
        "\n",
        "# with open(\"clip/flax_clip_nested_state_dict_keys.txt\", \"w\") as f:\n",
        "#     print_state_dict_keys(flax_clip_nested_state_dict, file=f)"
      ]
    },
    {
      "cell_type": "code",
      "execution_count": null,
      "metadata": {},
      "outputs": [],
      "source": [
        " for flax_key_tuple, flax_tensor in sorted(flax_vae_nested_state_dict.items()):\n",
        "   print(flax_tensor)"
      ]
    },
    {
      "cell_type": "code",
      "execution_count": null,
      "metadata": {},
      "outputs": [],
      "source": [
        "pytorch_vae_nested_state_dict = torch.load(\"/content/vae/diffusion_pytorch_model.bin\")\n",
        "# pytorch_unet_nested_state_dict = torch.load(\"/content/unet/diffusion_pytorch_model.bin\")\n",
        "# pytorch_clip_nested_state_dict = torch.load(\"/content/clip/pytorch_model.bin\")\n",
        "\n",
        "def print_state_dict_keys(state_dict, indent=0, file=None):\n",
        "    for key, value in sorted(state_dict.items()):\n",
        "        file.write(\" \" * indent + key + \"\\n\")\n",
        "        if isinstance(value, dict):\n",
        "            print_state_dict_keys(value, indent + 2, file)\n",
        "\n",
        "with open(\"vae/pytorch_vae_nested_state_dict_keys.txt\", \"w\") as f:\n",
        "    print_state_dict_keys(pytorch_vae_nested_state_dict, file=f)\n",
        "\n",
        "# with open(\"unet/pytorch_unet_nested_state_dict_keys.txt\", \"w\") as f:\n",
        "#     print_state_dict_keys(pytorch_unet_nested_state_dict, file=f)\n",
        "\n",
        "# with open(\"clip/pytorch_clip_nested_state_dict_keys.txt\", \"w\") as f:\n",
        "#     print_state_dict_keys(pytorch_clip_nested_state_dict, file=f)"
      ]
    },
    {
      "cell_type": "code",
      "execution_count": null,
      "metadata": {},
      "outputs": [],
      "source": [
        "import numpy as np\n",
        "import flax\n",
        "import jax.numpy as jnp\n",
        "import torch\n",
        "\n",
        "with open(\"/content/vae/diffusion_flax_model.msgpack\", \"rb\") as state_vae_f:\n",
        "    try:\n",
        "        flax_vae_nested_state_dict = flax.serialization.from_bytes(None, state_vae_f.read())\n",
        "    except e:\n",
        "        raise print(e)\n",
        "\n",
        "# with open(\"/content/unet/diffusion_flax_model.msgpack\", \"rb\") as state_unet_f:\n",
        "#     try:\n",
        "#         flax_unet_nested_state_dict = flax.serialization.from_bytes(None, state_unet_f.read())\n",
        "#     except e:\n",
        "#         raise print(e)\n",
        "\n",
        "# with open(\"/content/clip/flax_model.msgpack\", \"rb\") as state_clip_f:\n",
        "#     try:\n",
        "#         flax_clip_nested_state_dict = flax.serialization.from_bytes(None, state_clip_f.read())\n",
        "#     except e:\n",
        "#         raise print(e)\n",
        "\n",
        "# flax_vae_nested_state_dict_flattened = flax.traverse_util.flatten_dict(flax_vae_nested_state_dict, sep=\".\")\n",
        "# flax_unet_nested_state_dict_flattened = flax.traverse_util.flatten_dict(flax_unet_nested_state_dict, sep=\".\")\n",
        "# flax_clip_nested_state_dict_flattened = flax.traverse_util.flatten_dict(flax_clip_nested_state_dict, sep=\".\")\n",
        "\n",
        "# with open(\"vae/flax_vae_nested_state_dict_keys_flattened.txt\", \"w\") as f:\n",
        "#     for key in sorted(flax_vae_nested_state_dict_flattened.keys()):\n",
        "#         f.write(key + \"\\n\")\n",
        "# with open(\"unet/flax_unet_nested_state_dict_keys_flattened.txt\", \"w\") as f:\n",
        "#     for key in sorted(flax_unet_nested_state_dict_flattened.keys()):\n",
        "#         f.write(key + \"\\n\")\n",
        "# with open(\"clip/flax_clip_nested_state_dict_keys_flattened.txt\", \"w\") as f:\n",
        "#     for key in sorted(flax_clip_nested_state_dict_flattened.keys()):\n",
        "#         f.write(key + \"\\n\")"
      ]
    },
    {
      "cell_type": "code",
      "execution_count": null,
      "metadata": {},
      "outputs": [],
      "source": [
        "flax_vae_nested_state_dict_flattened = flax.traverse_util.flatten_dict(flax_vae_nested_state_dict)\n",
        "\n",
        "import jax.numpy as jnp\n",
        "\n",
        "for flax_key_tuple, flax_tensor in sorted(flax_vae_nested_state_dict_flattened.items()):\n",
        "  flax_key_tuple_array = flax_key_tuple\n",
        "  # flax_key_tuple_array = flax_key_tuple.split('.')\n",
        "  if flax_key_tuple_array[-1] == \"kernel\" and flax_tensor.ndim == 4:\n",
        "    flax_key_tuple_array = flax_key_tuple_array[:-1] + [\"weight\"]\n",
        "    flax_tensor = jnp.transpose(flax_tensor, (3, 2, 0, 1))\n",
        "  elif flax_key_tuple_array[-1] == \"kernel\":\n",
        "    flax_key_tuple_array = flax_key_tuple_array[:-1] +  [\"weight\"]\n",
        "    flax_tensor = flax_tensor.T\n",
        "    print(flax_key_tuple)\n",
        "  elif flax_key_tuple_array[-1] == \"scale\":\n",
        "    flax_key_tuple_array = flax_key_tuple_array[:-1] + [\"weight\"]\n",
        "\n",
        "  for i, flax_key_tuple_string in enumerate(flax_key_tuple_array):\n",
        "    flax_key_tuple_array[i] = flax_key_tuple_string.replace('_0', '.0').replace('_1', '.1').replace('_2', '.2').replace('_3', '.3')\n",
        "\n",
        "  flax_key_tuple = \".\".join(flax_key_tuple_array)\n",
        "  # print(flax_key_tuple)"
      ]
    },
    {
      "cell_type": "code",
      "execution_count": null,
      "metadata": {},
      "outputs": [],
      "source": [
        "import jax.numpy as jnp\n",
        "import flax\n",
        "\n",
        "with open(\"/content/unet/diffusion_flax_model.msgpack\", \"rb\") as state_unet_f:\n",
        "  flax_unet_nested_state_dict = flax.serialization.from_bytes(None, state_unet_f.read())\n",
        "\n",
        "flax_unet_nested_state_dict_flattened = flax.traverse_util.flatten_dict(flax_unet_nested_state_dict, sep=\".\")"
      ]
    },
    {
      "cell_type": "code",
      "execution_count": null,
      "metadata": {},
      "outputs": [],
      "source": [
        "for flax_key_tuple, flax_tensor in sorted(flax_unet_nested_state_dict_flattened.items()):\n",
        "  flax_key_tuple_array = flax_key_tuple.split('.')\n",
        "  if flax_key_tuple_array[-1] == \"kernel\" and flax_tensor.ndim == 4:\n",
        "    flax_key_tuple_array = flax_key_tuple_array[:-1] + [\"weight\"]\n",
        "    flax_tensor = jnp.transpose(flax_tensor, (3, 2, 0, 1))\n",
        "  elif flax_key_tuple_array[-1] == \"kernel\":\n",
        "    flax_key_tuple_array = flax_key_tuple_array[:-1] +  [\"weight\"]\n",
        "    flax_tensor = flax_tensor.T\n",
        "  elif flax_key_tuple_array[-1] == \"scale\":\n",
        "    flax_key_tuple_array = flax_key_tuple_array[:-1] + [\"weight\"]\n",
        "\n",
        "  if not \"time_embedding\" in flax_key_tuple_array:\n",
        "    for i, flax_key_tuple_string in enumerate(flax_key_tuple_array):\n",
        "      flax_key_tuple_array[i] = flax_key_tuple_string.replace('_0', '.0').replace('_1', '.1').replace('_2', '.2').replace('_3', '.3')\n",
        "  \n",
        "  flax_key_tuple = \".\".join(flax_key_tuple_array)\n",
        "  # if \"time_embedding\" in flax_key_tuple:\n",
        "  #    print(flax_key_tuple)\n",
        "  print(flax_key_tuple)"
      ]
    },
    {
      "cell_type": "code",
      "execution_count": null,
      "metadata": {},
      "outputs": [],
      "source": [
        "import jax.numpy as jnp\n",
        "flax_tensor = jnp.transpose(flax_tensor, (3, 2, 0, 1))"
      ]
    }
  ],
  "metadata": {
    "colab": {
      "provenance": []
    },
    "gpuClass": "standard",
    "kernelspec": {
      "display_name": "Python 3",
      "name": "python3"
    },
    "language_info": {
      "name": "python"
    }
  },
  "nbformat": 4,
  "nbformat_minor": 0
}
