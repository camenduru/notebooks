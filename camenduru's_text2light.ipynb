{
  "cells": [
    {
      "cell_type": "markdown",
      "metadata": {
        "id": "view-in-github"
      },
      "source": [
        "[![Open In Colab](https://colab.research.google.com/assets/colab-badge.svg)](https://colab.research.google.com/github/camenduru/notebooks/blob/main/camenduru's_text2light.ipynb)"
      ]
    },
    {
      "cell_type": "code",
      "execution_count": null,
      "metadata": {
        "id": "W7adzSv7ghtk"
      },
      "outputs": [],
      "source": [
        "!pip install -q torch==1.13.1+cu116 torchvision==0.14.1+cu116 torchaudio==0.13.1 torchtext==0.14.1 torchdata==0.5.1 --extra-index-url https://download.pytorch.org/whl/cu116 -U\n",
        "from google.colab import drive\n",
        "drive.mount('/content/gdrive')\n",
        "\n",
        "!pip install faiss-cpu tensorboardx ftfy einops transformers streamlit omegaconf==2.0 pudb==2019.2 pytorch-lightning==1.6.0\n",
        "\n",
        "!git clone https://github.com/FrozenBurning/Text2Light\n",
        "%cd /content/Text2Light\n",
        "\n",
        "!git lfs install\n",
        "!git clone https://huggingface.co/camenduru/text2light models"
      ]
    },
    {
      "cell_type": "code",
      "execution_count": null,
      "metadata": {
        "id": "MyZ2c6OeyaTI"
      },
      "outputs": [],
      "source": [
        "import os\n",
        "os.environ[\"OPENCV_IO_ENABLE_OPENEXR\"]=\"1\"\n",
        "\n",
        "!python text2light.py -rg /content/models/global_sampler_clip -rl /content/models/local_sampler_outdoor --outdir /content/gdrive/MyDrive/AI/Text2Light/outputs/001 --text \"beach blue and white cloudy sky during daytime\" --clip clip_emb.npy --sritmo /content/models/sritmo.pth --sr_factor 4"
      ]
    }
  ],
  "metadata": {
    "accelerator": "GPU",
    "colab": {
      "provenance": []
    },
    "kernelspec": {
      "display_name": "Python 3",
      "name": "python3"
    },
    "language_info": {
      "name": "python"
    }
  },
  "nbformat": 4,
  "nbformat_minor": 0
}
