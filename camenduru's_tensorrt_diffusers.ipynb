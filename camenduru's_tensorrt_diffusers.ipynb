{
  "cells": [
    {
      "cell_type": "markdown",
      "metadata": {
        "id": "view-in-github"
      },
      "source": [
        "[![Open In Colab](https://colab.research.google.com/assets/colab-badge.svg)](https://colab.research.google.com/github/camenduru/notebooks/blob/main/camenduru's_tensorrt_diffusers.ipynb)"
      ]
    },
    {
      "cell_type": "code",
      "execution_count": null,
      "metadata": {},
      "outputs": [],
      "source": [
        "%cd /content\n",
        "!git clone -b release/9.1 --recursive https://github.com/NVIDIA/TensorRT\n",
        "%cd /content/TensorRT\n",
        "\n",
        "%cd /content\n",
        "!wget https://developer.nvidia.com/downloads/compute/machine-learning/tensorrt/secure/9.1.0/tars/tensorrt-9.1.0.4.linux.x86_64-gnu.cuda-11.8.tar.gz\n",
        "!mkdir trt\n",
        "%cd /content/trt\n",
        "!tar -xvzf /content/tensorrt-9.1.0.4.linux.x86_64-gnu.cuda-11.8.tar.gz\n",
        "\n",
        "%cd /content/TensorRT\n",
        "!mkdir -p /content/TensorRT/build\n",
        "%cd /content/TensorRT/build\n",
        "!cmake .. -DTRT_LIB_DIR=/content/trt/TensorRT-9.1.0.4/lib -DTRT_OUT_DIR=/content/TensorRT/build/out -DCUDNN_ROOT_DIR=/usr/local/cuda/bin/nvcc -DGPU_ARCHS=\"75\"\n",
        "!make -j$(nproc)"
      ]
    },
    {
      "cell_type": "code",
      "execution_count": null,
      "metadata": {
        "id": "n_Kgy0tjscUC"
      },
      "outputs": [],
      "source": [
        "# https://github.com/NVIDIA/TensorRT/blob/release/8.6/demo/experimental/HuggingFace-Diffusers/TensorRT-diffusers-txt2img.ipynb\n",
        "# https://github.com/huggingface/diffusers/tree/main/examples/community#tensorrt-text2image-stable-diffusion-pipeline\n",
        "# https://github.com/huggingface/diffusers/tree/main/examples/community#tensorrt-image2image-stable-diffusion-pipeline\n",
        "# https://github.com/huggingface/diffusers/tree/main/examples/community#tensorrt-inpainting-stable-diffusion-pipeline\n",
        "\n",
        "# https://github.com/huggingface/diffusers/blob/main/examples/community/stable_diffusion_tensorrt_txt2img.py\n",
        "# https://github.com/huggingface/diffusers/blob/main/examples/community/stable_diffusion_tensorrt_img2img.py\n",
        "# https://github.com/huggingface/diffusers/blob/main/examples/community/stable_diffusion_tensorrt_inpaint.py\n",
        "# https://github.com/huggingface/diffusers/blob/main/examples/community/run_tensorrt_controlnet.py\n",
        "\n",
        "!pip install -q tensorrt diffusers transformers accelerate\n",
        "!pip install -q --extra-index-url https://pypi.ngc.nvidia.com \"onnx-graphsurgeon\" \"onnxruntime\" \"polygraphy\""
      ]
    },
    {
      "cell_type": "code",
      "execution_count": null,
      "metadata": {},
      "outputs": [],
      "source": [
        "import torch\n",
        "from diffusers.pipelines.stable_diffusion import StableDiffusionPipeline\n",
        "from diffusers import DDIMScheduler\n",
        "\n",
        "scheduler = DDIMScheduler.from_pretrained(\"stabilityai/stable-diffusion-2-1\", subfolder=\"scheduler\")\n",
        "pipe_trt = StableDiffusionPipeline.from_pretrained(\"stabilityai/stable-diffusion-2-1\", custom_pipeline=\"stable_diffusion_tensorrt_txt2img\", revision='fp16',\n",
        "    torch_dtype=torch.float16, scheduler=scheduler, image_height=512, image_width=512)\n",
        "\n",
        "pipe_trt.set_cached_folder(\"stabilityai/stable-diffusion-2-1\", revision='fp16')\n",
        "\n",
        "pipe_trt = pipe_trt.to(\"cuda\")"
      ]
    },
    {
      "cell_type": "code",
      "execution_count": null,
      "metadata": {},
      "outputs": [],
      "source": [
        "prompt = \"a beautiful photograph of Mt. Fuji during cherry blossom\"\n",
        "\n",
        "# warm up runs to stabilize performance benchmarking\n",
        "num_warm_up_steps=5\n",
        "for _ in range(num_warm_up_steps):\n",
        "    _ = pipe_trt(prompt)\n",
        "\n",
        "image = pipe_trt(prompt).images[0]\n",
        "display(image)"
      ]
    }
  ],
  "metadata": {
    "accelerator": "GPU",
    "colab": {
      "provenance": []
    },
    "gpuClass": "standard",
    "kernelspec": {
      "display_name": "Python 3",
      "name": "python3"
    },
    "language_info": {
      "name": "python"
    }
  },
  "nbformat": 4,
  "nbformat_minor": 0
}
