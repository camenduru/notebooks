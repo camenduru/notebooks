{
  "nbformat": 4,
  "nbformat_minor": 0,
  "metadata": {
    "colab": {
      "provenance": []
    },
    "kernelspec": {
      "name": "python3",
      "display_name": "Python 3"
    },
    "language_info": {
      "name": "python"
    }
  },
  "cells": [
    {
      "cell_type": "code",
      "execution_count": null,
      "metadata": {
        "id": "z6vdkVf8_kqk"
      },
      "outputs": [],
      "source": [
        "%cd /content\n",
        "!git lfs install\n",
        "!git clone https://huggingface.co/camenduru/instant-ngp\n",
        "!pip install commentjson\n",
        "%cd /content/instant-ngp\n",
        "\n",
        "import os\n",
        "scene_path = \"/content/instant-ngp/data/nerf/fox\" #@param {type:\"string\"}\n",
        "if not os.path.isdir(scene_path):\n",
        "  raise NotADirectoryError(scene_path)\n",
        "\n",
        "train_steps = 2000  #@param {type:\"integer\"}\n",
        "snapshot_path = os.path.join(scene_path, f\"{train_steps}.msgpack\")\n",
        "!python ./scripts/run.py --scene {scene_path} --mode nerf --n_steps {train_steps} --save_snapshot {snapshot_path}"
      ]
    }
  ]
}