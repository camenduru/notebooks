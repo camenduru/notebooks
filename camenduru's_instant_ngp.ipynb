{
  "cells": [
    {
      "cell_type": "markdown",
      "metadata": {
        "id": "view-in-github"
      },
      "source": [
        "[![Open In Colab](https://colab.research.google.com/assets/colab-badge.svg)](https://colab.research.google.com/github/camenduru/notebooks/blob/main/camenduru's_instant_ngp.ipynb)"
      ]
    },
    {
      "cell_type": "code",
      "execution_count": null,
      "metadata": {
        "id": "z6vdkVf8_kqk"
      },
      "outputs": [],
      "source": [
        "# !git lfs install\n",
        "# !git clone https://huggingface.co/camenduru/instant-ngp\n",
        "\n",
        "!wget https://huggingface.co/camenduru/instant-ngp/resolve/main/instant-ngp.zip\n",
        "!unzip /content/instant-ngp.zip -d instant-ngp\n",
        "\n",
        "!pip install commentjson\n",
        "%cd /content/instant-ngp\n",
        "import os\n",
        "scene_path = \"/content/instant-ngp/data/nerf/fox\" #@param {type:\"string\"}\n",
        "if not os.path.isdir(scene_path):\n",
        "  raise NotADirectoryError(scene_path)\n",
        "\n",
        "train_steps = 2000  #@param {type:\"integer\"}\n",
        "snapshot_path = os.path.join(scene_path, f\"{train_steps}.msgpack\")\n",
        "!python ./scripts/run.py --scene {scene_path} --mode nerf --n_steps {train_steps} --save_snapshot {snapshot_path}"
      ]
    }
  ],
  "metadata": {
    "accelerator": "GPU",
    "colab": {
      "provenance": []
    },
    "gpuClass": "standard",
    "kernelspec": {
      "display_name": "Python 3",
      "name": "python3"
    },
    "language_info": {
      "name": "python"
    }
  },
  "nbformat": 4,
  "nbformat_minor": 0
}
