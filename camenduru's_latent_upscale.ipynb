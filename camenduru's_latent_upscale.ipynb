{
  "cells": [
    {
      "cell_type": "markdown",
      "metadata": {
        "id": "view-in-github"
      },
      "source": [
        "[![Open In Colab](https://colab.research.google.com/assets/colab-badge.svg)](https://colab.research.google.com/github/camenduru/notebooks/blob/main/camenduru's_latent_upscale.ipynb)"
      ]
    },
    {
      "cell_type": "code",
      "execution_count": null,
      "metadata": {
        "id": "ZsJUxc0aRsAf"
      },
      "outputs": [],
      "source": [
        "!pip install -q git+https://github.com/huggingface/diffusers.git \n",
        "!pip install -q transformers accelerate safetensors --pre xformers triton\n",
        "\n",
        "from diffusers import StableDiffusionLatentUpscalePipeline, StableDiffusionPipeline\n",
        "import torch\n",
        "\n",
        "pipeline = StableDiffusionPipeline.from_pretrained(\"ckpt/anything-v4.5-vae-swapped\", torch_dtype=torch.float16, safety_checker=None).to(\"cuda\")\n",
        "pipeline.enable_xformers_memory_efficient_attention()\n",
        "upscaler = StableDiffusionLatentUpscalePipeline.from_pretrained(\"stabilityai/sd-x2-latent-upscaler\", torch_dtype=torch.float16).to(\"cuda\")\n",
        "upscaler.enable_xformers_memory_efficient_attention()"
      ]
    },
    {
      "cell_type": "code",
      "execution_count": null,
      "metadata": {},
      "outputs": [],
      "source": [
        "prompt = \"mermaid\"\n",
        "generator = torch.manual_seed(420)\n",
        "\n",
        "latents = pipeline(prompt, generator=generator, output_type=\"latent\").images\n",
        "high = upscaler(prompt, generator=generator, image=latents, num_inference_steps=50, guidance_scale=0).images[0]\n",
        "\n",
        "with torch.no_grad():\n",
        "    low = pipeline.decode_latents(latents)[0]\n",
        "low = pipeline.numpy_to_pil(low)[0]"
      ]
    },
    {
      "cell_type": "code",
      "execution_count": null,
      "metadata": {},
      "outputs": [],
      "source": [
        "display(low)"
      ]
    },
    {
      "cell_type": "code",
      "execution_count": null,
      "metadata": {},
      "outputs": [],
      "source": [
        "display(high)"
      ]
    }
  ],
  "metadata": {
    "accelerator": "GPU",
    "colab": {
      "collapsed_sections": [],
      "provenance": []
    },
    "gpuClass": "standard",
    "kernelspec": {
      "display_name": "Python 3 (ipykernel)",
      "language": "python",
      "name": "python3"
    },
    "language_info": {
      "codemirror_mode": {
        "name": "ipython",
        "version": 3
      },
      "file_extension": ".py",
      "mimetype": "text/x-python",
      "name": "python",
      "nbconvert_exporter": "python",
      "pygments_lexer": "ipython3",
      "version": "3.9.9"
    }
  },
  "nbformat": 4,
  "nbformat_minor": 0
}
