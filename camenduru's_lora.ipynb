{
  "nbformat": 4,
  "nbformat_minor": 0,
  "metadata": {
    "colab": {
      "provenance": []
    },
    "kernelspec": {
      "name": "python3",
      "display_name": "Python 3"
    },
    "language_info": {
      "name": "python"
    },
    "accelerator": "GPU",
    "gpuClass": "standard"
  },
  "cells": [
    {
      "cell_type": "markdown",
      "metadata": {
        "id": "view-in-github"
      },
      "source": [
        "[![Open In Colab](https://colab.research.google.com/assets/colab-badge.svg)](https://colab.research.google.com/github/camenduru/notebooks/blob/main/camenduru's_lora.ipynb)"
      ]
    },
    {
      "cell_type": "code",
      "execution_count": null,
      "metadata": {
        "id": "2exmZTOBs-RS"
      },
      "outputs": [],
      "source": [
        "!git clone -b v0.4.4 https://github.com/camenduru/sd-scripts\n",
        "!sed -i -e 's/requests==2.28.2/# requests==2.28.2/' /content/sd-scripts/requirements.txt\n",
        "%cd /content/sd-scripts\n",
        "!pip install -r requirements.txt\n",
        "!pip install --pre xformers\n",
        "!pip install --pre triton"
      ]
    },
    {
      "cell_type": "code",
      "source": [
        "!pip --pre xformers!python -u finetune/tag_images_by_wd14_tagger.py /content/drive/MyDrive/AI/training/parkminyoung --repo_id SmilingWolf/wd-v1-4-convnext-tagger-v2 --model_dir wd14_tagger_model --thresh 0.35 --batch_size 1 --caption_extension .txt"
      ],
      "metadata": {
        "id": "Q2LwDcv6uHLJ"
      },
      "execution_count": null,
      "outputs": []
    },
    {
      "cell_type": "code",
      "source": [
        "!python -u finetune/merge_dd_tags_to_metadata.py /content/drive/MyDrive/AI/training/parkminyoung /content/drive/MyDrive/AI/training/parkminyoung/parkminyoung.json --caption_extension .txt"
      ],
      "metadata": {
        "id": "PDCsfglivlx_"
      },
      "execution_count": null,
      "outputs": []
    },
    {
      "cell_type": "code",
      "source": [
        "!python -u finetune/prepare_buckets_latents.py /content/drive/MyDrive/AI/training/parkminyoung /content/drive/MyDrive/AI/training/parkminyoung/parkminyoung.json /content/drive/MyDrive/AI/training/parkminyoung/parkminyoung-lat.json JosephusCheung/ACertainty --batch_size 1 --max_resolution 512,512 --min_bucket_reso 256 --max_bucket_reso 1024 --bucket_reso_steps 64 --mixed_precision no"
      ],
      "metadata": {
        "id": "a-QjDI1OwCAm"
      },
      "execution_count": null,
      "outputs": []
    },
    {
      "cell_type": "code",
      "source": [
        "from diffusers import StableDiffusionPipeline\n",
        "pipe = StableDiffusionPipeline.from_pretrained(\"JosephusCheung/ACertainty\", safety_checker=None).to(\"cuda\")\n",
        "pipe.enable_xformers_memory_efficient_attention()\n",
        "image = pipe(\"duck\", num_inference_steps=25, guidance_scale=7).images[0]\n",
        "display(image)"
      ],
      "metadata": {
        "id": "MOWZYJU1y4lL"
      },
      "execution_count": null,
      "outputs": []
    },
    {
      "cell_type": "code",
      "source": [
        "!wget https://huggingface.co/ckpt/ACertainty/resolve/main/ACertainty.ckpt"
      ],
      "metadata": {
        "id": "tbu9MX_p1EEh"
      },
      "execution_count": null,
      "outputs": []
    },
    {
      "cell_type": "code",
      "source": [
        "!python -u train_network.py --pretrained_model_name_or_path JosephusCheung/ACertainty --train_data_dir /content/drive/MyDrive/AI/training/parkminyoung --in_json /content/drive/MyDrive/AI/training/parkminyoung/parkminyoung-lat.json --output_dir /content/trained --xformers --max_train_steps 1600 --use_8bit_adam --network_module networks.lora"
      ],
      "metadata": {
        "id": "Cdz5MxVntLhp"
      },
      "execution_count": null,
      "outputs": []
    },
    {
      "cell_type": "code",
      "source": [
        "!rm /content/drive/MyDrive/AI/training/parkminyoung/*.npz\n",
        "!rm /content/drive/MyDrive/AI/training/parkminyoung/parkminyoung-lat.json"
      ],
      "metadata": {
        "id": "n4IR-E6rz7oi"
      },
      "execution_count": null,
      "outputs": []
    }
  ]
}
