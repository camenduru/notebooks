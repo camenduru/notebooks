{
  "cells": [
    {
      "cell_type": "markdown",
      "metadata": {
        "id": "view-in-github"
      },
      "source": [
        "[![Open In Colab](https://colab.research.google.com/assets/colab-badge.svg)](https://colab.research.google.com/github/camenduru/notebooks/blob/main/camenduru's_3d_photo_inpainting.ipynb)"
      ]
    },
    {
      "cell_type": "code",
      "execution_count": null,
      "metadata": {
        "id": "5o-EIMeaghU0",
        "vscode": {
          "languageId": "python"
        }
      },
      "outputs": [],
      "source": [
        "!pip install -q torch==1.13.1+cu116 torchvision==0.14.1+cu116 torchaudio==0.13.1 torchtext==0.14.1 torchdata==0.5.1 --extra-index-url https://download.pytorch.org/whl/cu116 -U\n",
        "\n",
        "from google.colab import drive\n",
        "drive.mount('/content/gdrive')\n",
        "\n",
        "from IPython.display import clear_output, HTML\n",
        "from base64 import b64encode\n",
        "\n",
        "!pip install vispy transforms3d imageio==2.4.1 networkx==2.3 pyyaml==5.4.1\n",
        " \n",
        "!git lfs install\n",
        "\n",
        "!git clone https://huggingface.co/camenduru/3dphoto\n",
        "!git clone https://github.com/camenduru/3d-photo-inpainting\n",
        "%cd /content/3d-photo-inpainting\n",
        "\n",
        "!git clone https://github.com/compphoto/BoostingMonocularDepth.git\n",
        "!mkdir -p /content/3d-photo-inpainting/BoostingMonocularDepth/pix2pix/checkpoints/mergemodel\n",
        "!mkdir /content/3d-photo-inpainting/checkpoints\n",
        "!mkdir /content/3d-photo-inpainting/image\n",
        "!mkdir /content/3d-photo-inpainting/BoostingMonocularDepth/outputs\n",
        "\n",
        "!mv /content/3dphoto/color-model.pth /content/3d-photo-inpainting/checkpoints\n",
        "!mv /content/3dphoto/depth-model.pth /content/3d-photo-inpainting/checkpoints\n",
        "!mv /content/3dphoto/edge-model.pth /content/3d-photo-inpainting/checkpoints\n",
        "!mv /content/3dphoto/latest_net_G.pth  /content/3d-photo-inpainting/BoostingMonocularDepth/pix2pix/checkpoints/mergemodel\n",
        "!mv /content/3dphoto/midas-model1.pt /content/3d-photo-inpainting/MiDaS/model.pt\n",
        "!mv /content/3dphoto/midas-model2.pt /content/3d-photo-inpainting/BoostingMonocularDepth/midas/model.pt\n",
        "\n",
        "!rm /content/3d-photo-inpainting/image/moon.jpg\n",
        "!rm /content/3d-photo-inpainting/video/moon_circle.mp4\n",
        "!rm /content/3d-photo-inpainting/video/moon_dolly-zoom-in.mp4\n",
        "!rm /content/3d-photo-inpainting/video/moon_swing.mp4\n",
        "!rm /content/3d-photo-inpainting/video/moon_zoom-in.mp4\n",
        "!rm /content/3d-photo-inpainting/depth/moon.npy\n",
        "!rm /content/3d-photo-inpainting/depth/moon.png\n",
        "\n",
        "clear_output()"
      ]
    },
    {
      "cell_type": "code",
      "execution_count": null,
      "metadata": {
        "id": "n-Kl6fo1oows",
        "vscode": {
          "languageId": "python"
        }
      },
      "outputs": [],
      "source": [
        "%cd image\n",
        "from google.colab import files\n",
        "uploaded = files.upload()\n",
        "for fn in uploaded.keys():\n",
        "  print('User uploaded file \"{name}\" with length {length} bytes'.format(\n",
        "      name=fn, length=len(uploaded[fn])))\n",
        "%cd .."
      ]
    },
    {
      "cell_type": "code",
      "execution_count": null,
      "metadata": {
        "id": "i5-MWEjfBjYx",
        "vscode": {
          "languageId": "python"
        }
      },
      "outputs": [],
      "source": [
        "!python main.py --config argument.yml"
      ]
    },
    {
      "cell_type": "code",
      "execution_count": null,
      "metadata": {
        "id": "ZAkKO6Cw2iDx",
        "vscode": {
          "languageId": "python"
        }
      },
      "outputs": [],
      "source": [
        "mp4 = open(f'/content/3d-photo-inpainting/video/VIDEO.mp4','rb').read()\n",
        "data_url = \"data:video/mp4;base64,\" + b64encode(mp4).decode()\n",
        "HTML(f'<video width=512 controls><source src=\"{data_url}\" type=\"video/mp4\"></video>')"
      ]
    },
    {
      "cell_type": "code",
      "execution_count": 9,
      "metadata": {
        "id": "uGpcUorKObOc",
        "vscode": {
          "languageId": "python"
        }
      },
      "outputs": [],
      "source": [
        "!cp -r /content/3d-photo-inpainting/video /content/gdrive/MyDrive/AI/3DPhoto"
      ]
    }
  ],
  "metadata": {
    "accelerator": "GPU",
    "colab": {
      "collapsed_sections": [],
      "provenance": []
    },
    "kernelspec": {
      "display_name": "Python 3",
      "name": "python3"
    }
  },
  "nbformat": 4,
  "nbformat_minor": 0
}
