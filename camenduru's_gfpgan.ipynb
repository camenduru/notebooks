{
  "cells": [
    {
      "cell_type": "markdown",
      "metadata": {
        "id": "view-in-github"
      },
      "source": [
        "[![Open In Colab](https://colab.research.google.com/assets/colab-badge.svg)](https://colab.research.google.com/github/camenduru/notebooks/blob/main/camenduru's_gfpgan.ipynb)"
      ]
    },
    {
      "cell_type": "code",
      "execution_count": null,
      "metadata": {
        "id": "rbyb3ZDDyMoE"
      },
      "outputs": [],
      "source": [
        "!pip install -q torch==1.13.1+cu116 torchvision==0.14.1+cu116 torchaudio==0.13.1 torchtext==0.14.1 torchdata==0.5.1 --extra-index-url https://download.pytorch.org/whl/cu116 -U\n",
        "!git clone https://huggingface.co/spaces/Xintao/GFPGAN\n",
        "%cd GFPGAN\n",
        "!pip install -qq -r requirements.txt\n",
        "!pip install -qq gradio"
      ]
    },
    {
      "cell_type": "code",
      "execution_count": null,
      "metadata": {
        "id": "pe33yPgLyZHZ"
      },
      "outputs": [],
      "source": [
        "import os\n",
        "\n",
        "import cv2\n",
        "import gradio as gr\n",
        "import torch\n",
        "from basicsr.archs.srvgg_arch import SRVGGNetCompact\n",
        "from gfpgan.utils import GFPGANer\n",
        "from realesrgan.utils import RealESRGANer\n",
        "\n",
        "os.system(\"pip freeze\")\n",
        "os.system(\"wget https://github.com/xinntao/Real-ESRGAN/releases/download/v0.2.5.0/realesr-general-x4v3.pth -P .\")\n",
        "os.system(\"wget https://github.com/TencentARC/GFPGAN/releases/download/v1.3.0/GFPGANv1.2.pth -P .\")\n",
        "os.system(\"wget https://github.com/TencentARC/GFPGAN/releases/download/v1.3.0/GFPGANv1.3.pth -P .\")\n",
        "\n",
        "torch.hub.download_url_to_file(\n",
        "    'https://upload.wikimedia.org/wikipedia/commons/thumb/a/ab/Abraham_Lincoln_O-77_matte_collodion_print.jpg/1024px-Abraham_Lincoln_O-77_matte_collodion_print.jpg',\n",
        "    'lincoln.jpg')\n",
        "torch.hub.download_url_to_file(\n",
        "    'https://user-images.githubusercontent.com/17445847/187400315-87a90ac9-d231-45d6-b377-38702bd1838f.jpg',\n",
        "    'AI-generate.jpg')\n",
        "torch.hub.download_url_to_file(\n",
        "    'https://user-images.githubusercontent.com/17445847/187400981-8a58f7a4-ef61-42d9-af80-bc6234cef860.jpg',\n",
        "    'Blake_Lively.jpg')\n",
        "torch.hub.download_url_to_file(\n",
        "    'https://user-images.githubusercontent.com/17445847/187401133-8a3bf269-5b4d-4432-b2f0-6d26ee1d3307.png',\n",
        "    '10045.png')\n",
        "\n",
        "# background enhancer with RealESRGAN\n",
        "model = SRVGGNetCompact(num_in_ch=3, num_out_ch=3, num_feat=64, num_conv=32, upscale=4, act_type='prelu')\n",
        "model_path = 'realesr-general-x4v3.pth'\n",
        "half = True if torch.cuda.is_available() else False\n",
        "upsampler = RealESRGANer(scale=4, model_path=model_path, model=model, tile=0, tile_pad=10, pre_pad=0, half=half)\n",
        "\n",
        "# Use GFPGAN for face enhancement\n",
        "face_enhancer_v3 = GFPGANer(\n",
        "    model_path='GFPGANv1.3.pth', upscale=2, arch='clean', channel_multiplier=2, bg_upsampler=upsampler)\n",
        "face_enhancer_v2 = GFPGANer(\n",
        "    model_path='GFPGANv1.2.pth', upscale=2, arch='clean', channel_multiplier=2, bg_upsampler=upsampler)\n",
        "os.makedirs('output', exist_ok=True)\n",
        "\n",
        "\n",
        "def inference(img, version, scale):\n",
        "    print(img, version, scale)\n",
        "    try:\n",
        "        img = cv2.imread(img, cv2.IMREAD_UNCHANGED)\n",
        "        if len(img.shape) == 3 and img.shape[2] == 4:\n",
        "            img_mode = 'RGBA'\n",
        "        else:\n",
        "            img_mode = None\n",
        "\n",
        "        h, w = img.shape[0:2]\n",
        "        if h < 300:\n",
        "            img = cv2.resize(img, (w * 2, h * 2), interpolation=cv2.INTER_LANCZOS4)\n",
        "\n",
        "        if version == 'v1.2':\n",
        "            face_enhancer = face_enhancer_v2\n",
        "        else:\n",
        "            face_enhancer = face_enhancer_v3\n",
        "        try:\n",
        "            _, _, output = face_enhancer.enhance(img, has_aligned=False, only_center_face=False, paste_back=True)\n",
        "        except RuntimeError as error:\n",
        "            print('Error', error)\n",
        "        else:\n",
        "            extension = 'png'\n",
        "\n",
        "        try:\n",
        "            if scale != 2:\n",
        "                interpolation = cv2.INTER_AREA if scale < 2 else cv2.INTER_LANCZOS4\n",
        "                h, w = img.shape[0:2]\n",
        "                output = cv2.resize(output, (int(w * scale / 2), int(h * scale / 2)), interpolation=interpolation)\n",
        "        except Exception as error:\n",
        "            print('wrong scale input.', error)\n",
        "        if img_mode == 'RGBA':  # RGBA images should be saved in png format\n",
        "            extension = 'png'\n",
        "        else:\n",
        "            extension = 'jpg'\n",
        "        save_path = f'output/out.{extension}'\n",
        "        cv2.imwrite(save_path, output)\n",
        "\n",
        "        output = cv2.cvtColor(output, cv2.COLOR_BGR2RGB)\n",
        "        return output, save_path\n",
        "    except Exception as error:\n",
        "        print('global exception', error)\n",
        "        return None, None\n",
        "\n",
        "gr.Interface(\n",
        "    inference, [\n",
        "        gr.inputs.Image(type=\"filepath\", label=\"Input\"),\n",
        "        gr.inputs.Radio(['v1.2', 'v1.3'], type=\"value\", default='v1.3', label='GFPGAN version'),\n",
        "        gr.inputs.Number(label=\"Rescaling factor\", default=2)\n",
        "    ], [\n",
        "        gr.outputs.Image(type=\"numpy\", label=\"Output (The whole image)\"),\n",
        "        gr.outputs.File(label=\"Download the output image\")\n",
        "    ]).launch(inline=False, debug=True)"
      ]
    }
  ],
  "metadata": {
    "colab": {
      "collapsed_sections": [],
      "provenance": []
    },
    "kernelspec": {
      "display_name": "Python 3",
      "name": "python3"
    },
    "language_info": {
      "name": "python"
    }
  },
  "nbformat": 4,
  "nbformat_minor": 0
}
