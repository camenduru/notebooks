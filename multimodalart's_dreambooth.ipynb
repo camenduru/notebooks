{
  "cells": [
    {
      "cell_type": "markdown",
      "metadata": {
        "id": "view-in-github"
      },
      "source": [
        "[![Open In Colab](https://colab.research.google.com/assets/colab-badge.svg)](https://colab.research.google.com/github/camenduru/notebooks/blob/main/multimodalart's_dreambooth.ipynb)"
      ]
    },
    {
      "cell_type": "code",
      "execution_count": null,
      "metadata": {
        "id": "pPrggpwgVdHM"
      },
      "outputs": [],
      "source": [
        "!pip install -q torch==1.13.1+cu116 torchvision==0.14.1+cu116 torchaudio==0.13.1 torchtext==0.14.1 torchdata==0.5.1 --extra-index-url https://download.pytorch.org/whl/cu116 -U\n",
        "!git lfs install\n",
        "!git clone https://huggingface.co/spaces/multimodalart/dreambooth-training\n",
        "\n",
        "import os\n",
        "os.system(f\"sed -i -e 's/debug=True/debug=True, share=True/g' /content/dreambooth-training/app.py\")\n",
        "os.system(f\"sed -i -e '/apolinario/d' /content/dreambooth-training/requirements.txt\")\n",
        "\n",
        "os.system(f\"sed -i -e '/torch/d' /content/dreambooth-training/requirements.txt\")\n",
        "os.system(f\"sed -i -e '/torchvision/d' /content/dreambooth-training/requirements.txt\")\n",
        "\n",
        "!pip install -r /content/dreambooth-training/requirements.txt\n",
        "!pip install gradio\n",
        "!pip install -q https://github.com/camenduru/stable-diffusion-webui-colab/releases/download/0.0.15/xformers-0.0.15.dev0+189828c.d20221207-cp38-cp38-linux_x86_64.whl\n",
        "\n",
        "#!wget https://huggingface.co/spaces/multimodalart/dreambooth-training/resolve/main/mix.zip -O /content/dreambooth-training/mix.zip\n",
        "\n",
        "%cd /content/dreambooth-training\n",
        "!python app.py"
      ]
    }
  ],
  "metadata": {
    "colab": {
      "provenance": []
    },
    "kernelspec": {
      "display_name": "Python 3",
      "name": "python3"
    },
    "language_info": {
      "name": "python"
    }
  },
  "nbformat": 4,
  "nbformat_minor": 0
}
